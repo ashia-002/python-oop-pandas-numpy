{
  "nbformat": 4,
  "nbformat_minor": 0,
  "metadata": {
    "colab": {
      "provenance": [],
      "authorship_tag": "ABX9TyPLWcE0AmUNpF0NTzqSpsj/",
      "include_colab_link": true
    },
    "kernelspec": {
      "name": "python3",
      "display_name": "Python 3"
    },
    "language_info": {
      "name": "python"
    }
  },
  "cells": [
    {
      "cell_type": "markdown",
      "metadata": {
        "id": "view-in-github",
        "colab_type": "text"
      },
      "source": [
        "<a href=\"https://colab.research.google.com/github/ashia-002/python-oop-pandas-numpy/blob/main/Numpy_Basic/numpy.ipynb\" target=\"_parent\"><img src=\"https://colab.research.google.com/assets/colab-badge.svg\" alt=\"Open In Colab\"/></a>"
      ]
    },
    {
      "cell_type": "code",
      "execution_count": 6,
      "metadata": {
        "id": "CVcMiJYterx8"
      },
      "outputs": [],
      "source": [
        "import numpy as np"
      ]
    },
    {
      "cell_type": "markdown",
      "source": [
        "### Numpy array takes less time that list"
      ],
      "metadata": {
        "id": "YJexXSksfYBZ"
      }
    },
    {
      "cell_type": "code",
      "source": [
        "from time import process_time"
      ],
      "metadata": {
        "id": "DdX0WjCJffJN"
      },
      "execution_count": 7,
      "outputs": []
    },
    {
      "cell_type": "markdown",
      "source": [
        "**list time taken**"
      ],
      "metadata": {
        "id": "QwSz5lRRgD-t"
      }
    },
    {
      "cell_type": "code",
      "source": [
        "py_list = [i for i in range(20000)]\n",
        "\n",
        "start_time=process_time()\n",
        "\n",
        "py_list = [i+5 for i in py_list]\n",
        "\n",
        "end_time=process_time()\n",
        "\n",
        "print(end_time - start_time)"
      ],
      "metadata": {
        "colab": {
          "base_uri": "https://localhost:8080/"
        },
        "id": "njDBMZcGfn73",
        "outputId": "c71bb677-ad03-49dd-86fe-a2bd07b6e2ff"
      },
      "execution_count": 8,
      "outputs": [
        {
          "output_type": "stream",
          "name": "stdout",
          "text": [
            "0.0016434800000000305\n"
          ]
        }
      ]
    },
    {
      "cell_type": "markdown",
      "source": [
        "numpy array time taken"
      ],
      "metadata": {
        "id": "C1SnCh9xgHPY"
      }
    },
    {
      "cell_type": "code",
      "source": [
        "np_array = np.array([i for i in range(20000)])\n",
        "\n",
        "start_time=process_time()\n",
        "\n",
        "np_array += 5\n",
        "\n",
        "end_time=process_time()\n",
        "\n",
        "print(end_time - start_time)"
      ],
      "metadata": {
        "colab": {
          "base_uri": "https://localhost:8080/"
        },
        "id": "3AKGHuM7gKBp",
        "outputId": "c19a28f2-ed7d-4a37-d0f2-dc4bc587e926"
      },
      "execution_count": 9,
      "outputs": [
        {
          "output_type": "stream",
          "name": "stdout",
          "text": [
            "0.00026049699999997067\n"
          ]
        }
      ]
    },
    {
      "cell_type": "markdown",
      "source": [
        "### Numpy Arrays"
      ],
      "metadata": {
        "id": "kGJ2P0SFhIHW"
      }
    },
    {
      "cell_type": "code",
      "source": [
        "list1 = [1, 2, 3, 4, 5]\n",
        "print(list1)\n",
        "type(list1)"
      ],
      "metadata": {
        "colab": {
          "base_uri": "https://localhost:8080/"
        },
        "id": "bpE2JPQahLFd",
        "outputId": "89ee13a5-5385-4014-d97c-32ccb58b3668"
      },
      "execution_count": 10,
      "outputs": [
        {
          "output_type": "stream",
          "name": "stdout",
          "text": [
            "[1, 2, 3, 4, 5]\n"
          ]
        },
        {
          "output_type": "execute_result",
          "data": {
            "text/plain": [
              "list"
            ]
          },
          "metadata": {},
          "execution_count": 10
        }
      ]
    },
    {
      "cell_type": "code",
      "source": [
        "np_ary = np.array([[1, 2, 3, 4, 5], [3, 4, 5, 7, 9]])\n",
        "print(np_ary)\n",
        "type(np_ary)"
      ],
      "metadata": {
        "colab": {
          "base_uri": "https://localhost:8080/"
        },
        "id": "iChPV1pEhWHq",
        "outputId": "3e7fcf29-c485-4558-9883-871b86dc8b38"
      },
      "execution_count": 11,
      "outputs": [
        {
          "output_type": "stream",
          "name": "stdout",
          "text": [
            "[[1 2 3 4 5]\n",
            " [3 4 5 7 9]]\n"
          ]
        },
        {
          "output_type": "execute_result",
          "data": {
            "text/plain": [
              "numpy.ndarray"
            ]
          },
          "metadata": {},
          "execution_count": 11
        }
      ]
    },
    {
      "cell_type": "code",
      "source": [
        "# how namy rows and columns\n",
        "np_ary.shape"
      ],
      "metadata": {
        "colab": {
          "base_uri": "https://localhost:8080/"
        },
        "id": "NPpq6GIYh0LV",
        "outputId": "4626b3c6-c90e-4399-d1b2-4aeda0f17372"
      },
      "execution_count": 12,
      "outputs": [
        {
          "output_type": "execute_result",
          "data": {
            "text/plain": [
              "(2, 5)"
            ]
          },
          "metadata": {},
          "execution_count": 12
        }
      ]
    },
    {
      "cell_type": "code",
      "source": [
        "# change the datatype of the array\n",
        "np_ary.astype(float)\n",
        "print(np_ary)"
      ],
      "metadata": {
        "colab": {
          "base_uri": "https://localhost:8080/"
        },
        "id": "mUp0lv01NtxT",
        "outputId": "6eebbb62-8189-4b8d-942f-acd9372caf46"
      },
      "execution_count": 18,
      "outputs": [
        {
          "output_type": "stream",
          "name": "stdout",
          "text": [
            "[[1 2 3 4 5]\n",
            " [3 4 5 7 9]]\n"
          ]
        }
      ]
    },
    {
      "cell_type": "code",
      "source": [
        "# inspection of numpy array"
      ],
      "metadata": {
        "id": "N2gRJXeyiEz-"
      },
      "execution_count": 13,
      "outputs": []
    },
    {
      "cell_type": "code",
      "source": [
        "# number of dimentions\n",
        "print(np_ary.ndim)"
      ],
      "metadata": {
        "colab": {
          "base_uri": "https://localhost:8080/"
        },
        "id": "9fby4bowimEc",
        "outputId": "447caa3c-7f72-4ecd-e7fc-eddfc8ed7b56"
      },
      "execution_count": 14,
      "outputs": [
        {
          "output_type": "stream",
          "name": "stdout",
          "text": [
            "2\n"
          ]
        }
      ]
    },
    {
      "cell_type": "code",
      "source": [
        "print(len(np_ary))"
      ],
      "metadata": {
        "colab": {
          "base_uri": "https://localhost:8080/"
        },
        "id": "kM9-M8uBNBVJ",
        "outputId": "9f33ea36-ac69-4742-81cc-b10e767d7613"
      },
      "execution_count": 16,
      "outputs": [
        {
          "output_type": "stream",
          "name": "stdout",
          "text": [
            "2\n"
          ]
        }
      ]
    },
    {
      "cell_type": "code",
      "source": [
        "# number of elements\n",
        "print(np_ary.size)"
      ],
      "metadata": {
        "colab": {
          "base_uri": "https://localhost:8080/"
        },
        "id": "DbnBi8PuiwDd",
        "outputId": "b49cf183-aa71-4025-f8c2-f90c098f410e"
      },
      "execution_count": 15,
      "outputs": [
        {
          "output_type": "stream",
          "name": "stdout",
          "text": [
            "10\n"
          ]
        }
      ]
    },
    {
      "cell_type": "code",
      "source": [
        "print(np_ary.flags)"
      ],
      "metadata": {
        "colab": {
          "base_uri": "https://localhost:8080/"
        },
        "id": "3E6yadnuizpM",
        "outputId": "ef1a8b12-8b10-4f48-ca20-4d304a4cae6d"
      },
      "execution_count": 17,
      "outputs": [
        {
          "output_type": "stream",
          "name": "stdout",
          "text": [
            "  C_CONTIGUOUS : True\n",
            "  F_CONTIGUOUS : False\n",
            "  OWNDATA : True\n",
            "  WRITEABLE : True\n",
            "  ALIGNED : True\n",
            "  WRITEBACKIFCOPY : False\n",
            "\n"
          ]
        }
      ]
    },
    {
      "cell_type": "markdown",
      "source": [
        "### Initial place holder in numpy"
      ],
      "metadata": {
        "id": "09h3swVnjk6n"
      }
    },
    {
      "cell_type": "code",
      "source": [
        "# a numpy aray using zeros\n",
        "z = np.zeros((3,4))\n",
        "print(z)"
      ],
      "metadata": {
        "colab": {
          "base_uri": "https://localhost:8080/"
        },
        "id": "ieZRS1pTj9Sy",
        "outputId": "0ef9a869-da71-47a0-9cd1-519ec8019578"
      },
      "execution_count": 19,
      "outputs": [
        {
          "output_type": "stream",
          "name": "stdout",
          "text": [
            "[[0. 0. 0. 0.]\n",
            " [0. 0. 0. 0.]\n",
            " [0. 0. 0. 0.]]\n"
          ]
        }
      ]
    },
    {
      "cell_type": "code",
      "source": [
        "# a numpy array using ones\n",
        "o = np.ones((4,3))\n",
        "print(o)"
      ],
      "metadata": {
        "colab": {
          "base_uri": "https://localhost:8080/"
        },
        "id": "sGNleAfokNKf",
        "outputId": "7396ef8e-7e16-4fa6-c340-ac7f62923d60"
      },
      "execution_count": 20,
      "outputs": [
        {
          "output_type": "stream",
          "name": "stdout",
          "text": [
            "[[1. 1. 1.]\n",
            " [1. 1. 1.]\n",
            " [1. 1. 1.]\n",
            " [1. 1. 1.]]\n"
          ]
        }
      ]
    },
    {
      "cell_type": "code",
      "source": [
        "# a array of any particular value using full()\n",
        "p = np.full((4,5), 6)\n",
        "print(p)"
      ],
      "metadata": {
        "colab": {
          "base_uri": "https://localhost:8080/"
        },
        "id": "-I4j52CHkZY9",
        "outputId": "18f959a4-3554-47cd-885f-d5063e92abc1"
      },
      "execution_count": 21,
      "outputs": [
        {
          "output_type": "stream",
          "name": "stdout",
          "text": [
            "[[6 6 6 6 6]\n",
            " [6 6 6 6 6]\n",
            " [6 6 6 6 6]\n",
            " [6 6 6 6 6]]\n"
          ]
        }
      ]
    },
    {
      "cell_type": "code",
      "source": [
        "# create a identity matrix\n",
        "i = np.eye(5)\n",
        "print(i)"
      ],
      "metadata": {
        "colab": {
          "base_uri": "https://localhost:8080/"
        },
        "id": "-vSh-YH0kraJ",
        "outputId": "258885f7-107e-4481-a843-9f2e67316d51"
      },
      "execution_count": 22,
      "outputs": [
        {
          "output_type": "stream",
          "name": "stdout",
          "text": [
            "[[1. 0. 0. 0. 0.]\n",
            " [0. 1. 0. 0. 0.]\n",
            " [0. 0. 1. 0. 0.]\n",
            " [0. 0. 0. 1. 0.]\n",
            " [0. 0. 0. 0. 1.]]\n"
          ]
        }
      ]
    },
    {
      "cell_type": "code",
      "source": [
        "# a numpy array with random values\n",
        "r = np.random.random((3,4)) # will create values between 0 and 1\n",
        "print(r)"
      ],
      "metadata": {
        "colab": {
          "base_uri": "https://localhost:8080/"
        },
        "id": "fRv4MC9DlHbQ",
        "outputId": "e00ff1db-3ca4-4d75-dd58-9a441a4ed294"
      },
      "execution_count": 23,
      "outputs": [
        {
          "output_type": "stream",
          "name": "stdout",
          "text": [
            "[[0.66900562 0.77961125 0.48674713 0.68063844]\n",
            " [0.69538113 0.02771013 0.15753911 0.80518231]\n",
            " [0.70985161 0.2045242  0.02369701 0.59204327]]\n"
          ]
        }
      ]
    },
    {
      "cell_type": "code",
      "source": [
        "# random values between specified range\n",
        "r1 = np.random.randint(30, 60, (3,4)) #filling with values between 30 and 60\n",
        "print(r1)"
      ],
      "metadata": {
        "colab": {
          "base_uri": "https://localhost:8080/"
        },
        "id": "XJIvsP25l5W1",
        "outputId": "49a0a478-44e9-437a-e6e0-5a26d16f44e4"
      },
      "execution_count": 24,
      "outputs": [
        {
          "output_type": "stream",
          "name": "stdout",
          "text": [
            "[[44 39 43 40]\n",
            " [39 32 49 40]\n",
            " [48 55 54 32]]\n"
          ]
        }
      ]
    },
    {
      "cell_type": "code",
      "source": [
        "# filling with evenly spaced values\n",
        "e = np.linspace(20, 50, 6)\n",
        "print(e) # array type is float"
      ],
      "metadata": {
        "colab": {
          "base_uri": "https://localhost:8080/"
        },
        "id": "M8ken-6cmdw8",
        "outputId": "9b0b467c-bb72-4138-a7a7-2d23b127f7a9"
      },
      "execution_count": 25,
      "outputs": [
        {
          "output_type": "stream",
          "name": "stdout",
          "text": [
            "[20. 26. 32. 38. 44. 50.]\n"
          ]
        }
      ]
    },
    {
      "cell_type": "code",
      "source": [
        "# filling with evenly spaced values ---> specify the difference\n",
        "s = np.arange(20, 60, 5)\n",
        "print(s)"
      ],
      "metadata": {
        "colab": {
          "base_uri": "https://localhost:8080/"
        },
        "id": "JQUCldwCnCXz",
        "outputId": "009f335e-9a59-478d-b1f4-e8f3001b5aa2"
      },
      "execution_count": 26,
      "outputs": [
        {
          "output_type": "stream",
          "name": "stdout",
          "text": [
            "[20 25 30 35 40 45 50 55]\n"
          ]
        }
      ]
    },
    {
      "cell_type": "markdown",
      "source": [
        "### Converting txt into numpy array"
      ],
      "metadata": {
        "id": "smxUDWedqWNF"
      }
    },
    {
      "cell_type": "code",
      "source": [
        "data = [\n",
        "    [0.2536, 0.1008, 0.3857],\n",
        "    [0.4839, 0.4536, 0.3561],\n",
        "    [0.1292, 0.6875, 0.5929],\n",
        "    [0.1781, 0.3049, 0.8928],\n",
        "    [0.6253, 0.3486, 0.8791]\n",
        "]\n"
      ],
      "metadata": {
        "id": "nIfFYgP5rLvs"
      },
      "execution_count": 27,
      "outputs": []
    },
    {
      "cell_type": "code",
      "source": [
        "# first creating data.txt with values\n",
        "with open(\"data.txt\", \"w\") as f:\n",
        "  f.write(\"value1 value2 value3\\n\")\n",
        "  for r in data:\n",
        "    formatted_row = \" \".join(str(val) for val in r)\n",
        "    f.write(f\"{formatted_row}\\n\")\n"
      ],
      "metadata": {
        "id": "XcFnPhwZqVx5"
      },
      "execution_count": 28,
      "outputs": []
    },
    {
      "cell_type": "code",
      "source": [
        "with open(\"data.txt\", \"r\") as f:\n",
        "  print(f.read())"
      ],
      "metadata": {
        "colab": {
          "base_uri": "https://localhost:8080/"
        },
        "id": "BeWYpTnIsgy3",
        "outputId": "b9f51d3f-9cd1-4cc8-fa53-5b10af869cf1"
      },
      "execution_count": 29,
      "outputs": [
        {
          "output_type": "stream",
          "name": "stdout",
          "text": [
            "value1 value2 value3\n",
            "0.2536 0.1008 0.3857\n",
            "0.4839 0.4536 0.3561\n",
            "0.1292 0.6875 0.5929\n",
            "0.1781 0.3049 0.8928\n",
            "0.6253 0.3486 0.8791\n",
            "\n"
          ]
        }
      ]
    },
    {
      "cell_type": "markdown",
      "source": [
        "loading the data.txt into numpy array"
      ],
      "metadata": {
        "id": "hk4pxLufv1GB"
      }
    },
    {
      "cell_type": "code",
      "source": [
        "data = np.loadtxt('data.txt', skiprows=1)\n",
        "print(data)\n",
        "data.shape"
      ],
      "metadata": {
        "colab": {
          "base_uri": "https://localhost:8080/"
        },
        "id": "rmWtyiD7v5Zc",
        "outputId": "35dc38b1-8495-4fac-b02e-1d46eb2fd25d"
      },
      "execution_count": 30,
      "outputs": [
        {
          "output_type": "stream",
          "name": "stdout",
          "text": [
            "[[0.2536 0.1008 0.3857]\n",
            " [0.4839 0.4536 0.3561]\n",
            " [0.1292 0.6875 0.5929]\n",
            " [0.1781 0.3049 0.8928]\n",
            " [0.6253 0.3486 0.8791]]\n"
          ]
        },
        {
          "output_type": "execute_result",
          "data": {
            "text/plain": [
              "(5, 3)"
            ]
          },
          "metadata": {},
          "execution_count": 30
        }
      ]
    },
    {
      "cell_type": "markdown",
      "source": [
        "Array Slicing"
      ],
      "metadata": {
        "id": "N95clox5ScXd"
      }
    },
    {
      "cell_type": "code",
      "source": [
        "# taking only three row and two columns\n",
        "s_data = data[:3, :2]\n",
        "print(s_data)\n",
        "s_data.shape"
      ],
      "metadata": {
        "colab": {
          "base_uri": "https://localhost:8080/"
        },
        "id": "IzC_G3OOOlz_",
        "outputId": "dfdf0669-950b-43c6-dd17-94d2c11b91ce"
      },
      "execution_count": 35,
      "outputs": [
        {
          "output_type": "stream",
          "name": "stdout",
          "text": [
            "[[0.2536 0.1008]\n",
            " [0.4839 0.4536]\n",
            " [0.1292 0.6875]]\n"
          ]
        },
        {
          "output_type": "execute_result",
          "data": {
            "text/plain": [
              "(3, 2)"
            ]
          },
          "metadata": {},
          "execution_count": 35
        }
      ]
    },
    {
      "cell_type": "code",
      "source": [
        "m_data = data[ : , :2]\n",
        "print(m_data)\n",
        "m_data.shape"
      ],
      "metadata": {
        "colab": {
          "base_uri": "https://localhost:8080/"
        },
        "id": "wQNHBJHSPPBU",
        "outputId": "5b88db00-7eb2-4fb4-ef3e-0858fcb46141"
      },
      "execution_count": 36,
      "outputs": [
        {
          "output_type": "stream",
          "name": "stdout",
          "text": [
            "[[0.2536 0.1008]\n",
            " [0.4839 0.4536]\n",
            " [0.1292 0.6875]\n",
            " [0.1781 0.3049]\n",
            " [0.6253 0.3486]]\n"
          ]
        },
        {
          "output_type": "execute_result",
          "data": {
            "text/plain": [
              "(5, 2)"
            ]
          },
          "metadata": {},
          "execution_count": 36
        }
      ]
    },
    {
      "cell_type": "markdown",
      "source": [
        "### Array Mathematics"
      ],
      "metadata": {
        "id": "ZZUXEQGWSkQY"
      }
    },
    {
      "cell_type": "code",
      "source": [
        "add = np.add(s_data , m_data[:3, :]) # both array shape (3,2)\n",
        "print(add)"
      ],
      "metadata": {
        "colab": {
          "base_uri": "https://localhost:8080/"
        },
        "id": "atVZGvAqQVoQ",
        "outputId": "5d03912b-5137-4cdf-981a-24188de077f8"
      },
      "execution_count": 40,
      "outputs": [
        {
          "output_type": "stream",
          "name": "stdout",
          "text": [
            "[[0.5072 0.2016]\n",
            " [0.9678 0.9072]\n",
            " [0.2584 1.375 ]]\n"
          ]
        }
      ]
    },
    {
      "cell_type": "code",
      "source": [
        "m_data = m_data[:3, :]\n",
        "sub = np.subtract(s_data, m_data)\n",
        "print(sub)"
      ],
      "metadata": {
        "colab": {
          "base_uri": "https://localhost:8080/"
        },
        "id": "D0MsAoUKVRMQ",
        "outputId": "d288bc28-c5d1-4ccf-be26-ca1f6bc63bc6"
      },
      "execution_count": 41,
      "outputs": [
        {
          "output_type": "stream",
          "name": "stdout",
          "text": [
            "[[0. 0.]\n",
            " [0. 0.]\n",
            " [0. 0.]]\n"
          ]
        }
      ]
    },
    {
      "cell_type": "code",
      "source": [
        "# same way can use multipy and divide"
      ],
      "metadata": {
        "id": "k9cE8P6wWVbD"
      },
      "execution_count": null,
      "outputs": []
    },
    {
      "cell_type": "code",
      "source": [
        "#array-wise sum — the total of all values in the array.\n",
        "data.sum()"
      ],
      "metadata": {
        "colab": {
          "base_uri": "https://localhost:8080/"
        },
        "id": "TtunZg9OWmWZ",
        "outputId": "138e6e4b-dbbd-436e-f59d-e221091b7c5f"
      },
      "execution_count": 43,
      "outputs": [
        {
          "output_type": "execute_result",
          "data": {
            "text/plain": [
              "np.float64(6.6721)"
            ]
          },
          "metadata": {},
          "execution_count": 43
        }
      ]
    },
    {
      "cell_type": "code",
      "source": [
        "# minimum value of the entire array\n",
        "data.min()"
      ],
      "metadata": {
        "colab": {
          "base_uri": "https://localhost:8080/"
        },
        "id": "I-QrStQmW7Qi",
        "outputId": "05bfeb64-2d17-46b7-9f58-c1b634a54f45"
      },
      "execution_count": 44,
      "outputs": [
        {
          "output_type": "execute_result",
          "data": {
            "text/plain": [
              "np.float64(0.1008)"
            ]
          },
          "metadata": {},
          "execution_count": 44
        }
      ]
    },
    {
      "cell_type": "code",
      "source": [
        "# each column wise maximum\n",
        "r1.max(axis=0)"
      ],
      "metadata": {
        "colab": {
          "base_uri": "https://localhost:8080/"
        },
        "id": "RwV4ui43XIrP",
        "outputId": "9ad3bef5-5f5e-48a6-a743-1f16ccfeec12"
      },
      "execution_count": 47,
      "outputs": [
        {
          "output_type": "execute_result",
          "data": {
            "text/plain": [
              "array([48, 55, 54, 40])"
            ]
          },
          "metadata": {},
          "execution_count": 47
        }
      ]
    },
    {
      "cell_type": "code",
      "source": [
        "# mean of the array\n",
        "r1.mean()"
      ],
      "metadata": {
        "colab": {
          "base_uri": "https://localhost:8080/"
        },
        "id": "TTcf0PkIYOjg",
        "outputId": "e49a07b5-afdb-453c-9a31-1eb3ce97a60a"
      },
      "execution_count": 49,
      "outputs": [
        {
          "output_type": "execute_result",
          "data": {
            "text/plain": [
              "np.float64(42.916666666666664)"
            ]
          },
          "metadata": {},
          "execution_count": 49
        }
      ]
    },
    {
      "cell_type": "code",
      "source": [
        "# median\n",
        "np.median(r1) # whole array\n",
        "# np.median(r1, axis=0) #per column\n",
        "\n",
        "# np.median(r1, axis=1) #per row"
      ],
      "metadata": {
        "colab": {
          "base_uri": "https://localhost:8080/"
        },
        "id": "aabTPJc7YUY2",
        "outputId": "99ca4814-4bb1-46f4-a1d3-9dcb127107b4"
      },
      "execution_count": 56,
      "outputs": [
        {
          "output_type": "execute_result",
          "data": {
            "text/plain": [
              "np.float64(41.5)"
            ]
          },
          "metadata": {},
          "execution_count": 56
        }
      ]
    },
    {
      "cell_type": "code",
      "source": [],
      "metadata": {
        "id": "ItAbVIuoYax2"
      },
      "execution_count": null,
      "outputs": []
    }
  ]
}