{
  "nbformat": 4,
  "nbformat_minor": 0,
  "metadata": {
    "colab": {
      "provenance": [],
      "authorship_tag": "ABX9TyNwf/wdzA7PY8yMM0c4Zqfl",
      "include_colab_link": true
    },
    "kernelspec": {
      "name": "python3",
      "display_name": "Python 3"
    },
    "language_info": {
      "name": "python"
    }
  },
  "cells": [
    {
      "cell_type": "markdown",
      "metadata": {
        "id": "view-in-github",
        "colab_type": "text"
      },
      "source": [
        "<a href=\"https://colab.research.google.com/github/ashia-002/python-oop-pandas-numpy/blob/main/Numpy_Basic/numpy.ipynb\" target=\"_parent\"><img src=\"https://colab.research.google.com/assets/colab-badge.svg\" alt=\"Open In Colab\"/></a>"
      ]
    },
    {
      "cell_type": "code",
      "execution_count": 1,
      "metadata": {
        "id": "CVcMiJYterx8"
      },
      "outputs": [],
      "source": [
        "import numpy as np"
      ]
    },
    {
      "cell_type": "markdown",
      "source": [
        "### Numpy array takes less time that list"
      ],
      "metadata": {
        "id": "YJexXSksfYBZ"
      }
    },
    {
      "cell_type": "code",
      "source": [
        "from time import process_time"
      ],
      "metadata": {
        "id": "DdX0WjCJffJN"
      },
      "execution_count": 2,
      "outputs": []
    },
    {
      "cell_type": "markdown",
      "source": [
        "**list time taken**"
      ],
      "metadata": {
        "id": "QwSz5lRRgD-t"
      }
    },
    {
      "cell_type": "code",
      "source": [
        "py_list = [i for i in range(20000)]\n",
        "\n",
        "start_time=process_time()\n",
        "\n",
        "py_list = [i+5 for i in py_list]\n",
        "\n",
        "end_time=process_time()\n",
        "\n",
        "print(end_time - start_time)"
      ],
      "metadata": {
        "colab": {
          "base_uri": "https://localhost:8080/"
        },
        "id": "njDBMZcGfn73",
        "outputId": "99c7da1c-f893-4824-e622-0eff1d5963bc"
      },
      "execution_count": 3,
      "outputs": [
        {
          "output_type": "stream",
          "name": "stdout",
          "text": [
            "0.0013230030000004334\n"
          ]
        }
      ]
    },
    {
      "cell_type": "markdown",
      "source": [
        "numpy array time taken"
      ],
      "metadata": {
        "id": "C1SnCh9xgHPY"
      }
    },
    {
      "cell_type": "code",
      "source": [
        "np_array = np.array([i for i in range(20000)])\n",
        "\n",
        "start_time=process_time()\n",
        "\n",
        "np_array += 5\n",
        "\n",
        "end_time=process_time()\n",
        "\n",
        "print(end_time - start_time)"
      ],
      "metadata": {
        "colab": {
          "base_uri": "https://localhost:8080/"
        },
        "id": "3AKGHuM7gKBp",
        "outputId": "b9b0b447-0b11-4283-9a15-eefb494e66c0"
      },
      "execution_count": 4,
      "outputs": [
        {
          "output_type": "stream",
          "name": "stdout",
          "text": [
            "0.0002231830000001267\n"
          ]
        }
      ]
    },
    {
      "cell_type": "markdown",
      "source": [
        "### Numpy Arrays"
      ],
      "metadata": {
        "id": "kGJ2P0SFhIHW"
      }
    },
    {
      "cell_type": "code",
      "source": [
        "list1 = [1, 2, 3, 4, 5]\n",
        "print(list1)\n",
        "type(list1)"
      ],
      "metadata": {
        "colab": {
          "base_uri": "https://localhost:8080/"
        },
        "id": "bpE2JPQahLFd",
        "outputId": "4f6c1e3f-18d9-4cfb-ab8d-eb73bf411bc3"
      },
      "execution_count": 5,
      "outputs": [
        {
          "output_type": "stream",
          "name": "stdout",
          "text": [
            "[1, 2, 3, 4, 5]\n"
          ]
        },
        {
          "output_type": "execute_result",
          "data": {
            "text/plain": [
              "list"
            ]
          },
          "metadata": {},
          "execution_count": 5
        }
      ]
    },
    {
      "cell_type": "code",
      "source": [
        "np_ary = np.array([[1, 2, 3, 4, 5], [3, 4, 5, 7, 9]])\n",
        "print(np_ary)\n",
        "type(np_ary)"
      ],
      "metadata": {
        "colab": {
          "base_uri": "https://localhost:8080/"
        },
        "id": "iChPV1pEhWHq",
        "outputId": "edeedf4a-0aca-4f88-85a8-8c4b69a5ecaf"
      },
      "execution_count": 9,
      "outputs": [
        {
          "output_type": "stream",
          "name": "stdout",
          "text": [
            "[[1 2 3 4 5]\n",
            " [3 4 5 7 9]]\n"
          ]
        },
        {
          "output_type": "execute_result",
          "data": {
            "text/plain": [
              "numpy.ndarray"
            ]
          },
          "metadata": {},
          "execution_count": 9
        }
      ]
    },
    {
      "cell_type": "code",
      "source": [
        "# how namy rows and columns\n",
        "np_ary.shape"
      ],
      "metadata": {
        "colab": {
          "base_uri": "https://localhost:8080/"
        },
        "id": "NPpq6GIYh0LV",
        "outputId": "7830dd88-8383-4325-f70f-e88c6ee71edd"
      },
      "execution_count": 11,
      "outputs": [
        {
          "output_type": "execute_result",
          "data": {
            "text/plain": [
              "(2, 5)"
            ]
          },
          "metadata": {},
          "execution_count": 11
        }
      ]
    },
    {
      "cell_type": "code",
      "source": [
        "# inspection of numpy array"
      ],
      "metadata": {
        "id": "N2gRJXeyiEz-"
      },
      "execution_count": null,
      "outputs": []
    },
    {
      "cell_type": "code",
      "source": [
        "# number of dimentions\n",
        "print(np_ary.ndim)"
      ],
      "metadata": {
        "colab": {
          "base_uri": "https://localhost:8080/"
        },
        "id": "9fby4bowimEc",
        "outputId": "1269fdce-ceaa-48d0-dd81-fe76519c43a1"
      },
      "execution_count": 12,
      "outputs": [
        {
          "output_type": "stream",
          "name": "stdout",
          "text": [
            "2\n"
          ]
        }
      ]
    },
    {
      "cell_type": "code",
      "source": [
        "# number of elements\n",
        "print(np_ary.size)"
      ],
      "metadata": {
        "colab": {
          "base_uri": "https://localhost:8080/"
        },
        "id": "DbnBi8PuiwDd",
        "outputId": "51a1be33-b007-4cdb-88a0-d8364d8789fb"
      },
      "execution_count": 13,
      "outputs": [
        {
          "output_type": "stream",
          "name": "stdout",
          "text": [
            "10\n"
          ]
        }
      ]
    },
    {
      "cell_type": "code",
      "source": [
        "print(np_ary.flags)"
      ],
      "metadata": {
        "colab": {
          "base_uri": "https://localhost:8080/"
        },
        "id": "3E6yadnuizpM",
        "outputId": "78085b86-b4c0-49c0-e755-4451d48d4d2c"
      },
      "execution_count": 14,
      "outputs": [
        {
          "output_type": "stream",
          "name": "stdout",
          "text": [
            "  C_CONTIGUOUS : True\n",
            "  F_CONTIGUOUS : False\n",
            "  OWNDATA : True\n",
            "  WRITEABLE : True\n",
            "  ALIGNED : True\n",
            "  WRITEBACKIFCOPY : False\n",
            "\n"
          ]
        }
      ]
    },
    {
      "cell_type": "markdown",
      "source": [
        "### Initial place holder in numpy"
      ],
      "metadata": {
        "id": "09h3swVnjk6n"
      }
    },
    {
      "cell_type": "code",
      "source": [
        "# a numpy aray using zeros\n",
        "z = np.zeros((3,4))\n",
        "print(z)"
      ],
      "metadata": {
        "colab": {
          "base_uri": "https://localhost:8080/"
        },
        "id": "ieZRS1pTj9Sy",
        "outputId": "9613a9f8-837d-4793-cb73-ddb5281e0744"
      },
      "execution_count": 17,
      "outputs": [
        {
          "output_type": "stream",
          "name": "stdout",
          "text": [
            "[[0. 0. 0. 0.]\n",
            " [0. 0. 0. 0.]\n",
            " [0. 0. 0. 0.]]\n"
          ]
        }
      ]
    },
    {
      "cell_type": "code",
      "source": [
        "# a numpy array using ones\n",
        "o = np.ones((4,3))\n",
        "print(o)"
      ],
      "metadata": {
        "colab": {
          "base_uri": "https://localhost:8080/"
        },
        "id": "sGNleAfokNKf",
        "outputId": "847977f9-c3b0-4db2-eeaa-23abe0213049"
      },
      "execution_count": 18,
      "outputs": [
        {
          "output_type": "stream",
          "name": "stdout",
          "text": [
            "[[1. 1. 1.]\n",
            " [1. 1. 1.]\n",
            " [1. 1. 1.]\n",
            " [1. 1. 1.]]\n"
          ]
        }
      ]
    },
    {
      "cell_type": "code",
      "source": [
        "# a array of any particular value using full()\n",
        "p = np.full((4,5), 6)\n",
        "print(p)"
      ],
      "metadata": {
        "colab": {
          "base_uri": "https://localhost:8080/"
        },
        "id": "-I4j52CHkZY9",
        "outputId": "b32ef77a-a39f-4808-91ce-4f4082d3ba20"
      },
      "execution_count": 19,
      "outputs": [
        {
          "output_type": "stream",
          "name": "stdout",
          "text": [
            "[[6 6 6 6 6]\n",
            " [6 6 6 6 6]\n",
            " [6 6 6 6 6]\n",
            " [6 6 6 6 6]]\n"
          ]
        }
      ]
    },
    {
      "cell_type": "code",
      "source": [
        "# create a identity matrix\n",
        "i = np.eye(5)\n",
        "print(i)"
      ],
      "metadata": {
        "colab": {
          "base_uri": "https://localhost:8080/"
        },
        "id": "-vSh-YH0kraJ",
        "outputId": "668f8a5a-92b7-4a6d-b0b9-dc31a34e9821"
      },
      "execution_count": 22,
      "outputs": [
        {
          "output_type": "stream",
          "name": "stdout",
          "text": [
            "[[1. 0. 0. 0. 0.]\n",
            " [0. 1. 0. 0. 0.]\n",
            " [0. 0. 1. 0. 0.]\n",
            " [0. 0. 0. 1. 0.]\n",
            " [0. 0. 0. 0. 1.]]\n"
          ]
        }
      ]
    },
    {
      "cell_type": "code",
      "source": [
        "# a numpy array with random values\n",
        "r = np.random.random((3,4)) # will create values between 0 and 1\n",
        "print(r)"
      ],
      "metadata": {
        "colab": {
          "base_uri": "https://localhost:8080/"
        },
        "id": "fRv4MC9DlHbQ",
        "outputId": "4d61a6f8-6a6d-4f0c-a1e5-f5196e83c0a9"
      },
      "execution_count": 23,
      "outputs": [
        {
          "output_type": "stream",
          "name": "stdout",
          "text": [
            "[[0.42959591 0.76693489 0.35112754 0.48004213]\n",
            " [0.86324535 0.54361883 0.14223166 0.52450522]\n",
            " [0.39790421 0.16840416 0.77877388 0.45945597]]\n"
          ]
        }
      ]
    },
    {
      "cell_type": "code",
      "source": [
        "# random values between specified range\n",
        "r1 = np.random.randint(30, 60, (3,4)) #filling with values between 30 and 60\n",
        "print(r1)"
      ],
      "metadata": {
        "colab": {
          "base_uri": "https://localhost:8080/"
        },
        "id": "XJIvsP25l5W1",
        "outputId": "699b812e-57b1-4744-853f-09c98f617187"
      },
      "execution_count": 26,
      "outputs": [
        {
          "output_type": "stream",
          "name": "stdout",
          "text": [
            "[[39 54 55 42]\n",
            " [56 42 38 57]\n",
            " [47 34 59 45]]\n"
          ]
        }
      ]
    },
    {
      "cell_type": "code",
      "source": [
        "# filling with evenly spaced values\n",
        "e = np.linspace(20, 50, 6)\n",
        "print(e) # array type is float"
      ],
      "metadata": {
        "colab": {
          "base_uri": "https://localhost:8080/"
        },
        "id": "M8ken-6cmdw8",
        "outputId": "9681c8de-1c30-4fdb-d6c8-0ef229da6527"
      },
      "execution_count": 31,
      "outputs": [
        {
          "output_type": "stream",
          "name": "stdout",
          "text": [
            "[20. 26. 32. 38. 44. 50.]\n"
          ]
        }
      ]
    },
    {
      "cell_type": "code",
      "source": [
        "# filling with evenly spaced values ---> specify the difference\n",
        "s = np.arange(20, 60, 5)\n",
        "print(s)"
      ],
      "metadata": {
        "colab": {
          "base_uri": "https://localhost:8080/"
        },
        "id": "JQUCldwCnCXz",
        "outputId": "db55d70c-5926-4b63-8165-87d19bdcf4d9"
      },
      "execution_count": 33,
      "outputs": [
        {
          "output_type": "stream",
          "name": "stdout",
          "text": [
            "[20 25 30 35 40 45 50 55]\n"
          ]
        }
      ]
    }
  ]
}