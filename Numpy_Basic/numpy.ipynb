{
  "nbformat": 4,
  "nbformat_minor": 0,
  "metadata": {
    "colab": {
      "provenance": [],
      "authorship_tag": "ABX9TyNW9vskO0jEXEg0afssFUUg",
      "include_colab_link": true
    },
    "kernelspec": {
      "name": "python3",
      "display_name": "Python 3"
    },
    "language_info": {
      "name": "python"
    }
  },
  "cells": [
    {
      "cell_type": "markdown",
      "metadata": {
        "id": "view-in-github",
        "colab_type": "text"
      },
      "source": [
        "<a href=\"https://colab.research.google.com/github/ashia-002/python-oop-pandas-numpy/blob/main/Numpy_Basic/numpy.ipynb\" target=\"_parent\"><img src=\"https://colab.research.google.com/assets/colab-badge.svg\" alt=\"Open In Colab\"/></a>"
      ]
    },
    {
      "cell_type": "code",
      "execution_count": 1,
      "metadata": {
        "id": "CVcMiJYterx8"
      },
      "outputs": [],
      "source": [
        "import numpy as np"
      ]
    },
    {
      "cell_type": "markdown",
      "source": [
        "### Numpy array takes less time that list"
      ],
      "metadata": {
        "id": "YJexXSksfYBZ"
      }
    },
    {
      "cell_type": "code",
      "source": [
        "from time import process_time"
      ],
      "metadata": {
        "id": "DdX0WjCJffJN"
      },
      "execution_count": 2,
      "outputs": []
    },
    {
      "cell_type": "markdown",
      "source": [
        "list time taken"
      ],
      "metadata": {
        "id": "QwSz5lRRgD-t"
      }
    },
    {
      "cell_type": "code",
      "source": [
        "py_list = [i for i in range(20000)]\n",
        "\n",
        "start_time=process_time()\n",
        "\n",
        "py_list = [i+5 for i in py_list]\n",
        "\n",
        "end_time=process_time()\n",
        "\n",
        "print(end_time - start_time)"
      ],
      "metadata": {
        "colab": {
          "base_uri": "https://localhost:8080/"
        },
        "id": "njDBMZcGfn73",
        "outputId": "99c7da1c-f893-4824-e622-0eff1d5963bc"
      },
      "execution_count": 3,
      "outputs": [
        {
          "output_type": "stream",
          "name": "stdout",
          "text": [
            "0.0013230030000004334\n"
          ]
        }
      ]
    },
    {
      "cell_type": "markdown",
      "source": [
        "numpy array time taken"
      ],
      "metadata": {
        "id": "C1SnCh9xgHPY"
      }
    },
    {
      "cell_type": "code",
      "source": [
        "np_array = np.array([i for i in range(20000)])\n",
        "\n",
        "start_time=process_time()\n",
        "\n",
        "np_array += 5\n",
        "\n",
        "end_time=process_time()\n",
        "\n",
        "print(end_time - start_time)"
      ],
      "metadata": {
        "colab": {
          "base_uri": "https://localhost:8080/"
        },
        "id": "3AKGHuM7gKBp",
        "outputId": "b9b0b447-0b11-4283-9a15-eefb494e66c0"
      },
      "execution_count": 4,
      "outputs": [
        {
          "output_type": "stream",
          "name": "stdout",
          "text": [
            "0.0002231830000001267\n"
          ]
        }
      ]
    }
  ]
}