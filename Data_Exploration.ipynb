{
  "nbformat": 4,
  "nbformat_minor": 0,
  "metadata": {
    "colab": {
      "provenance": [],
      "authorship_tag": "ABX9TyMsutsOwHD+k+HiMEzb/7DV",
      "include_colab_link": true
    },
    "kernelspec": {
      "name": "python3",
      "display_name": "Python 3"
    },
    "language_info": {
      "name": "python"
    }
  },
  "cells": [
    {
      "cell_type": "markdown",
      "metadata": {
        "id": "view-in-github",
        "colab_type": "text"
      },
      "source": [
        "<a href=\"https://colab.research.google.com/github/ashia-002/python-oop-pandas-numpy/blob/main/Data_Exploration.ipynb\" target=\"_parent\"><img src=\"https://colab.research.google.com/assets/colab-badge.svg\" alt=\"Open In Colab\"/></a>"
      ]
    },
    {
      "cell_type": "markdown",
      "source": [
        "# Dataset Loading & Exploration"
      ],
      "metadata": {
        "id": "IxkwEkeM-SaO"
      }
    },
    {
      "cell_type": "markdown",
      "source": [
        "## Load the dataset in Python using Pandas."
      ],
      "metadata": {
        "id": "5ouYEIIf-X9n"
      }
    },
    {
      "cell_type": "code",
      "execution_count": 2,
      "metadata": {
        "colab": {
          "base_uri": "https://localhost:8080/",
          "height": 90
        },
        "id": "q4k6AOhg9oso",
        "outputId": "88319682-05c7-4bc6-b732-2fe353c33059"
      },
      "outputs": [
        {
          "output_type": "display_data",
          "data": {
            "text/plain": [
              "<IPython.core.display.HTML object>"
            ],
            "text/html": [
              "\n",
              "     <input type=\"file\" id=\"files-1f203023-3811-403f-a09a-318de979ebdc\" name=\"files[]\" multiple disabled\n",
              "        style=\"border:none\" />\n",
              "     <output id=\"result-1f203023-3811-403f-a09a-318de979ebdc\">\n",
              "      Upload widget is only available when the cell has been executed in the\n",
              "      current browser session. Please rerun this cell to enable.\n",
              "      </output>\n",
              "      <script>// Copyright 2017 Google LLC\n",
              "//\n",
              "// Licensed under the Apache License, Version 2.0 (the \"License\");\n",
              "// you may not use this file except in compliance with the License.\n",
              "// You may obtain a copy of the License at\n",
              "//\n",
              "//      http://www.apache.org/licenses/LICENSE-2.0\n",
              "//\n",
              "// Unless required by applicable law or agreed to in writing, software\n",
              "// distributed under the License is distributed on an \"AS IS\" BASIS,\n",
              "// WITHOUT WARRANTIES OR CONDITIONS OF ANY KIND, either express or implied.\n",
              "// See the License for the specific language governing permissions and\n",
              "// limitations under the License.\n",
              "\n",
              "/**\n",
              " * @fileoverview Helpers for google.colab Python module.\n",
              " */\n",
              "(function(scope) {\n",
              "function span(text, styleAttributes = {}) {\n",
              "  const element = document.createElement('span');\n",
              "  element.textContent = text;\n",
              "  for (const key of Object.keys(styleAttributes)) {\n",
              "    element.style[key] = styleAttributes[key];\n",
              "  }\n",
              "  return element;\n",
              "}\n",
              "\n",
              "// Max number of bytes which will be uploaded at a time.\n",
              "const MAX_PAYLOAD_SIZE = 100 * 1024;\n",
              "\n",
              "function _uploadFiles(inputId, outputId) {\n",
              "  const steps = uploadFilesStep(inputId, outputId);\n",
              "  const outputElement = document.getElementById(outputId);\n",
              "  // Cache steps on the outputElement to make it available for the next call\n",
              "  // to uploadFilesContinue from Python.\n",
              "  outputElement.steps = steps;\n",
              "\n",
              "  return _uploadFilesContinue(outputId);\n",
              "}\n",
              "\n",
              "// This is roughly an async generator (not supported in the browser yet),\n",
              "// where there are multiple asynchronous steps and the Python side is going\n",
              "// to poll for completion of each step.\n",
              "// This uses a Promise to block the python side on completion of each step,\n",
              "// then passes the result of the previous step as the input to the next step.\n",
              "function _uploadFilesContinue(outputId) {\n",
              "  const outputElement = document.getElementById(outputId);\n",
              "  const steps = outputElement.steps;\n",
              "\n",
              "  const next = steps.next(outputElement.lastPromiseValue);\n",
              "  return Promise.resolve(next.value.promise).then((value) => {\n",
              "    // Cache the last promise value to make it available to the next\n",
              "    // step of the generator.\n",
              "    outputElement.lastPromiseValue = value;\n",
              "    return next.value.response;\n",
              "  });\n",
              "}\n",
              "\n",
              "/**\n",
              " * Generator function which is called between each async step of the upload\n",
              " * process.\n",
              " * @param {string} inputId Element ID of the input file picker element.\n",
              " * @param {string} outputId Element ID of the output display.\n",
              " * @return {!Iterable<!Object>} Iterable of next steps.\n",
              " */\n",
              "function* uploadFilesStep(inputId, outputId) {\n",
              "  const inputElement = document.getElementById(inputId);\n",
              "  inputElement.disabled = false;\n",
              "\n",
              "  const outputElement = document.getElementById(outputId);\n",
              "  outputElement.innerHTML = '';\n",
              "\n",
              "  const pickedPromise = new Promise((resolve) => {\n",
              "    inputElement.addEventListener('change', (e) => {\n",
              "      resolve(e.target.files);\n",
              "    });\n",
              "  });\n",
              "\n",
              "  const cancel = document.createElement('button');\n",
              "  inputElement.parentElement.appendChild(cancel);\n",
              "  cancel.textContent = 'Cancel upload';\n",
              "  const cancelPromise = new Promise((resolve) => {\n",
              "    cancel.onclick = () => {\n",
              "      resolve(null);\n",
              "    };\n",
              "  });\n",
              "\n",
              "  // Wait for the user to pick the files.\n",
              "  const files = yield {\n",
              "    promise: Promise.race([pickedPromise, cancelPromise]),\n",
              "    response: {\n",
              "      action: 'starting',\n",
              "    }\n",
              "  };\n",
              "\n",
              "  cancel.remove();\n",
              "\n",
              "  // Disable the input element since further picks are not allowed.\n",
              "  inputElement.disabled = true;\n",
              "\n",
              "  if (!files) {\n",
              "    return {\n",
              "      response: {\n",
              "        action: 'complete',\n",
              "      }\n",
              "    };\n",
              "  }\n",
              "\n",
              "  for (const file of files) {\n",
              "    const li = document.createElement('li');\n",
              "    li.append(span(file.name, {fontWeight: 'bold'}));\n",
              "    li.append(span(\n",
              "        `(${file.type || 'n/a'}) - ${file.size} bytes, ` +\n",
              "        `last modified: ${\n",
              "            file.lastModifiedDate ? file.lastModifiedDate.toLocaleDateString() :\n",
              "                                    'n/a'} - `));\n",
              "    const percent = span('0% done');\n",
              "    li.appendChild(percent);\n",
              "\n",
              "    outputElement.appendChild(li);\n",
              "\n",
              "    const fileDataPromise = new Promise((resolve) => {\n",
              "      const reader = new FileReader();\n",
              "      reader.onload = (e) => {\n",
              "        resolve(e.target.result);\n",
              "      };\n",
              "      reader.readAsArrayBuffer(file);\n",
              "    });\n",
              "    // Wait for the data to be ready.\n",
              "    let fileData = yield {\n",
              "      promise: fileDataPromise,\n",
              "      response: {\n",
              "        action: 'continue',\n",
              "      }\n",
              "    };\n",
              "\n",
              "    // Use a chunked sending to avoid message size limits. See b/62115660.\n",
              "    let position = 0;\n",
              "    do {\n",
              "      const length = Math.min(fileData.byteLength - position, MAX_PAYLOAD_SIZE);\n",
              "      const chunk = new Uint8Array(fileData, position, length);\n",
              "      position += length;\n",
              "\n",
              "      const base64 = btoa(String.fromCharCode.apply(null, chunk));\n",
              "      yield {\n",
              "        response: {\n",
              "          action: 'append',\n",
              "          file: file.name,\n",
              "          data: base64,\n",
              "        },\n",
              "      };\n",
              "\n",
              "      let percentDone = fileData.byteLength === 0 ?\n",
              "          100 :\n",
              "          Math.round((position / fileData.byteLength) * 100);\n",
              "      percent.textContent = `${percentDone}% done`;\n",
              "\n",
              "    } while (position < fileData.byteLength);\n",
              "  }\n",
              "\n",
              "  // All done.\n",
              "  yield {\n",
              "    response: {\n",
              "      action: 'complete',\n",
              "    }\n",
              "  };\n",
              "}\n",
              "\n",
              "scope.google = scope.google || {};\n",
              "scope.google.colab = scope.google.colab || {};\n",
              "scope.google.colab._files = {\n",
              "  _uploadFiles,\n",
              "  _uploadFilesContinue,\n",
              "};\n",
              "})(self);\n",
              "</script> "
            ]
          },
          "metadata": {}
        },
        {
          "output_type": "stream",
          "name": "stdout",
          "text": [
            "Saving merged_pigeon_disease_synthetic.csv to merged_pigeon_disease_synthetic.csv\n"
          ]
        }
      ],
      "source": [
        "from google.colab import files\n",
        "uploaded = files.upload()"
      ]
    },
    {
      "cell_type": "markdown",
      "source": [
        "### Display the first 5 rows."
      ],
      "metadata": {
        "id": "5bmT4iW9_xzi"
      }
    },
    {
      "cell_type": "code",
      "source": [
        "import pandas as pd\n",
        "df = pd.read_csv('merged_pigeon_disease_synthetic.csv')\n",
        "df.head()"
      ],
      "metadata": {
        "colab": {
          "base_uri": "https://localhost:8080/",
          "height": 295
        },
        "id": "zrUy3Ir3_YqZ",
        "outputId": "d9d6fe70-04be-46ac-f904-24223d9cb3b2",
        "collapsed": true
      },
      "execution_count": 3,
      "outputs": [
        {
          "output_type": "execute_result",
          "data": {
            "text/plain": [
              "     Age  Season Housing          Rearing   Cleaning     Water FeedQuality  \\\n",
              "0  Adult  Winter  Modern  Semi-scavenging    Regular  Tubewell        Good   \n",
              "1  Adult  Winter  Modern  Semi-scavenging  Irregular  Tubewell        Good   \n",
              "2  Adult   Rainy  Modern        Intensive    Regular     Other      Medium   \n",
              "3  Adult  Summer  Modern       Scavenging        NaN  Tubewell        Poor   \n",
              "4  Young  Winter  Modern  Semi-scavenging    Regular       Tap        Poor   \n",
              "\n",
              "   FeedSupplement Vaccination  Deworming       Treatment           Disease  \n",
              "0             1.0   Irregular  Irregular             NaN       Coccidiosis  \n",
              "1             0.0         NaN        NaN             NaN  Strongyloidiasis  \n",
              "2             0.0     Regular  Irregular             NaN        Salmonella  \n",
              "3             1.0   Irregular    Regular  Village Doctor  Strongyloidiasis  \n",
              "4             1.0   Irregular  Irregular  Village Doctor                ND  "
            ],
            "text/html": [
              "\n",
              "  <div id=\"df-07e60bbe-1daa-4e65-afb0-5362179f43c8\" class=\"colab-df-container\">\n",
              "    <div>\n",
              "<style scoped>\n",
              "    .dataframe tbody tr th:only-of-type {\n",
              "        vertical-align: middle;\n",
              "    }\n",
              "\n",
              "    .dataframe tbody tr th {\n",
              "        vertical-align: top;\n",
              "    }\n",
              "\n",
              "    .dataframe thead th {\n",
              "        text-align: right;\n",
              "    }\n",
              "</style>\n",
              "<table border=\"1\" class=\"dataframe\">\n",
              "  <thead>\n",
              "    <tr style=\"text-align: right;\">\n",
              "      <th></th>\n",
              "      <th>Age</th>\n",
              "      <th>Season</th>\n",
              "      <th>Housing</th>\n",
              "      <th>Rearing</th>\n",
              "      <th>Cleaning</th>\n",
              "      <th>Water</th>\n",
              "      <th>FeedQuality</th>\n",
              "      <th>FeedSupplement</th>\n",
              "      <th>Vaccination</th>\n",
              "      <th>Deworming</th>\n",
              "      <th>Treatment</th>\n",
              "      <th>Disease</th>\n",
              "    </tr>\n",
              "  </thead>\n",
              "  <tbody>\n",
              "    <tr>\n",
              "      <th>0</th>\n",
              "      <td>Adult</td>\n",
              "      <td>Winter</td>\n",
              "      <td>Modern</td>\n",
              "      <td>Semi-scavenging</td>\n",
              "      <td>Regular</td>\n",
              "      <td>Tubewell</td>\n",
              "      <td>Good</td>\n",
              "      <td>1.0</td>\n",
              "      <td>Irregular</td>\n",
              "      <td>Irregular</td>\n",
              "      <td>NaN</td>\n",
              "      <td>Coccidiosis</td>\n",
              "    </tr>\n",
              "    <tr>\n",
              "      <th>1</th>\n",
              "      <td>Adult</td>\n",
              "      <td>Winter</td>\n",
              "      <td>Modern</td>\n",
              "      <td>Semi-scavenging</td>\n",
              "      <td>Irregular</td>\n",
              "      <td>Tubewell</td>\n",
              "      <td>Good</td>\n",
              "      <td>0.0</td>\n",
              "      <td>NaN</td>\n",
              "      <td>NaN</td>\n",
              "      <td>NaN</td>\n",
              "      <td>Strongyloidiasis</td>\n",
              "    </tr>\n",
              "    <tr>\n",
              "      <th>2</th>\n",
              "      <td>Adult</td>\n",
              "      <td>Rainy</td>\n",
              "      <td>Modern</td>\n",
              "      <td>Intensive</td>\n",
              "      <td>Regular</td>\n",
              "      <td>Other</td>\n",
              "      <td>Medium</td>\n",
              "      <td>0.0</td>\n",
              "      <td>Regular</td>\n",
              "      <td>Irregular</td>\n",
              "      <td>NaN</td>\n",
              "      <td>Salmonella</td>\n",
              "    </tr>\n",
              "    <tr>\n",
              "      <th>3</th>\n",
              "      <td>Adult</td>\n",
              "      <td>Summer</td>\n",
              "      <td>Modern</td>\n",
              "      <td>Scavenging</td>\n",
              "      <td>NaN</td>\n",
              "      <td>Tubewell</td>\n",
              "      <td>Poor</td>\n",
              "      <td>1.0</td>\n",
              "      <td>Irregular</td>\n",
              "      <td>Regular</td>\n",
              "      <td>Village Doctor</td>\n",
              "      <td>Strongyloidiasis</td>\n",
              "    </tr>\n",
              "    <tr>\n",
              "      <th>4</th>\n",
              "      <td>Young</td>\n",
              "      <td>Winter</td>\n",
              "      <td>Modern</td>\n",
              "      <td>Semi-scavenging</td>\n",
              "      <td>Regular</td>\n",
              "      <td>Tap</td>\n",
              "      <td>Poor</td>\n",
              "      <td>1.0</td>\n",
              "      <td>Irregular</td>\n",
              "      <td>Irregular</td>\n",
              "      <td>Village Doctor</td>\n",
              "      <td>ND</td>\n",
              "    </tr>\n",
              "  </tbody>\n",
              "</table>\n",
              "</div>\n",
              "    <div class=\"colab-df-buttons\">\n",
              "\n",
              "  <div class=\"colab-df-container\">\n",
              "    <button class=\"colab-df-convert\" onclick=\"convertToInteractive('df-07e60bbe-1daa-4e65-afb0-5362179f43c8')\"\n",
              "            title=\"Convert this dataframe to an interactive table.\"\n",
              "            style=\"display:none;\">\n",
              "\n",
              "  <svg xmlns=\"http://www.w3.org/2000/svg\" height=\"24px\" viewBox=\"0 -960 960 960\">\n",
              "    <path d=\"M120-120v-720h720v720H120Zm60-500h600v-160H180v160Zm220 220h160v-160H400v160Zm0 220h160v-160H400v160ZM180-400h160v-160H180v160Zm440 0h160v-160H620v160ZM180-180h160v-160H180v160Zm440 0h160v-160H620v160Z\"/>\n",
              "  </svg>\n",
              "    </button>\n",
              "\n",
              "  <style>\n",
              "    .colab-df-container {\n",
              "      display:flex;\n",
              "      gap: 12px;\n",
              "    }\n",
              "\n",
              "    .colab-df-convert {\n",
              "      background-color: #E8F0FE;\n",
              "      border: none;\n",
              "      border-radius: 50%;\n",
              "      cursor: pointer;\n",
              "      display: none;\n",
              "      fill: #1967D2;\n",
              "      height: 32px;\n",
              "      padding: 0 0 0 0;\n",
              "      width: 32px;\n",
              "    }\n",
              "\n",
              "    .colab-df-convert:hover {\n",
              "      background-color: #E2EBFA;\n",
              "      box-shadow: 0px 1px 2px rgba(60, 64, 67, 0.3), 0px 1px 3px 1px rgba(60, 64, 67, 0.15);\n",
              "      fill: #174EA6;\n",
              "    }\n",
              "\n",
              "    .colab-df-buttons div {\n",
              "      margin-bottom: 4px;\n",
              "    }\n",
              "\n",
              "    [theme=dark] .colab-df-convert {\n",
              "      background-color: #3B4455;\n",
              "      fill: #D2E3FC;\n",
              "    }\n",
              "\n",
              "    [theme=dark] .colab-df-convert:hover {\n",
              "      background-color: #434B5C;\n",
              "      box-shadow: 0px 1px 3px 1px rgba(0, 0, 0, 0.15);\n",
              "      filter: drop-shadow(0px 1px 2px rgba(0, 0, 0, 0.3));\n",
              "      fill: #FFFFFF;\n",
              "    }\n",
              "  </style>\n",
              "\n",
              "    <script>\n",
              "      const buttonEl =\n",
              "        document.querySelector('#df-07e60bbe-1daa-4e65-afb0-5362179f43c8 button.colab-df-convert');\n",
              "      buttonEl.style.display =\n",
              "        google.colab.kernel.accessAllowed ? 'block' : 'none';\n",
              "\n",
              "      async function convertToInteractive(key) {\n",
              "        const element = document.querySelector('#df-07e60bbe-1daa-4e65-afb0-5362179f43c8');\n",
              "        const dataTable =\n",
              "          await google.colab.kernel.invokeFunction('convertToInteractive',\n",
              "                                                    [key], {});\n",
              "        if (!dataTable) return;\n",
              "\n",
              "        const docLinkHtml = 'Like what you see? Visit the ' +\n",
              "          '<a target=\"_blank\" href=https://colab.research.google.com/notebooks/data_table.ipynb>data table notebook</a>'\n",
              "          + ' to learn more about interactive tables.';\n",
              "        element.innerHTML = '';\n",
              "        dataTable['output_type'] = 'display_data';\n",
              "        await google.colab.output.renderOutput(dataTable, element);\n",
              "        const docLink = document.createElement('div');\n",
              "        docLink.innerHTML = docLinkHtml;\n",
              "        element.appendChild(docLink);\n",
              "      }\n",
              "    </script>\n",
              "  </div>\n",
              "\n",
              "\n",
              "    <div id=\"df-9cd3e301-04ec-4f10-9734-afc057784250\">\n",
              "      <button class=\"colab-df-quickchart\" onclick=\"quickchart('df-9cd3e301-04ec-4f10-9734-afc057784250')\"\n",
              "                title=\"Suggest charts\"\n",
              "                style=\"display:none;\">\n",
              "\n",
              "<svg xmlns=\"http://www.w3.org/2000/svg\" height=\"24px\"viewBox=\"0 0 24 24\"\n",
              "     width=\"24px\">\n",
              "    <g>\n",
              "        <path d=\"M19 3H5c-1.1 0-2 .9-2 2v14c0 1.1.9 2 2 2h14c1.1 0 2-.9 2-2V5c0-1.1-.9-2-2-2zM9 17H7v-7h2v7zm4 0h-2V7h2v10zm4 0h-2v-4h2v4z\"/>\n",
              "    </g>\n",
              "</svg>\n",
              "      </button>\n",
              "\n",
              "<style>\n",
              "  .colab-df-quickchart {\n",
              "      --bg-color: #E8F0FE;\n",
              "      --fill-color: #1967D2;\n",
              "      --hover-bg-color: #E2EBFA;\n",
              "      --hover-fill-color: #174EA6;\n",
              "      --disabled-fill-color: #AAA;\n",
              "      --disabled-bg-color: #DDD;\n",
              "  }\n",
              "\n",
              "  [theme=dark] .colab-df-quickchart {\n",
              "      --bg-color: #3B4455;\n",
              "      --fill-color: #D2E3FC;\n",
              "      --hover-bg-color: #434B5C;\n",
              "      --hover-fill-color: #FFFFFF;\n",
              "      --disabled-bg-color: #3B4455;\n",
              "      --disabled-fill-color: #666;\n",
              "  }\n",
              "\n",
              "  .colab-df-quickchart {\n",
              "    background-color: var(--bg-color);\n",
              "    border: none;\n",
              "    border-radius: 50%;\n",
              "    cursor: pointer;\n",
              "    display: none;\n",
              "    fill: var(--fill-color);\n",
              "    height: 32px;\n",
              "    padding: 0;\n",
              "    width: 32px;\n",
              "  }\n",
              "\n",
              "  .colab-df-quickchart:hover {\n",
              "    background-color: var(--hover-bg-color);\n",
              "    box-shadow: 0 1px 2px rgba(60, 64, 67, 0.3), 0 1px 3px 1px rgba(60, 64, 67, 0.15);\n",
              "    fill: var(--button-hover-fill-color);\n",
              "  }\n",
              "\n",
              "  .colab-df-quickchart-complete:disabled,\n",
              "  .colab-df-quickchart-complete:disabled:hover {\n",
              "    background-color: var(--disabled-bg-color);\n",
              "    fill: var(--disabled-fill-color);\n",
              "    box-shadow: none;\n",
              "  }\n",
              "\n",
              "  .colab-df-spinner {\n",
              "    border: 2px solid var(--fill-color);\n",
              "    border-color: transparent;\n",
              "    border-bottom-color: var(--fill-color);\n",
              "    animation:\n",
              "      spin 1s steps(1) infinite;\n",
              "  }\n",
              "\n",
              "  @keyframes spin {\n",
              "    0% {\n",
              "      border-color: transparent;\n",
              "      border-bottom-color: var(--fill-color);\n",
              "      border-left-color: var(--fill-color);\n",
              "    }\n",
              "    20% {\n",
              "      border-color: transparent;\n",
              "      border-left-color: var(--fill-color);\n",
              "      border-top-color: var(--fill-color);\n",
              "    }\n",
              "    30% {\n",
              "      border-color: transparent;\n",
              "      border-left-color: var(--fill-color);\n",
              "      border-top-color: var(--fill-color);\n",
              "      border-right-color: var(--fill-color);\n",
              "    }\n",
              "    40% {\n",
              "      border-color: transparent;\n",
              "      border-right-color: var(--fill-color);\n",
              "      border-top-color: var(--fill-color);\n",
              "    }\n",
              "    60% {\n",
              "      border-color: transparent;\n",
              "      border-right-color: var(--fill-color);\n",
              "    }\n",
              "    80% {\n",
              "      border-color: transparent;\n",
              "      border-right-color: var(--fill-color);\n",
              "      border-bottom-color: var(--fill-color);\n",
              "    }\n",
              "    90% {\n",
              "      border-color: transparent;\n",
              "      border-bottom-color: var(--fill-color);\n",
              "    }\n",
              "  }\n",
              "</style>\n",
              "\n",
              "      <script>\n",
              "        async function quickchart(key) {\n",
              "          const quickchartButtonEl =\n",
              "            document.querySelector('#' + key + ' button');\n",
              "          quickchartButtonEl.disabled = true;  // To prevent multiple clicks.\n",
              "          quickchartButtonEl.classList.add('colab-df-spinner');\n",
              "          try {\n",
              "            const charts = await google.colab.kernel.invokeFunction(\n",
              "                'suggestCharts', [key], {});\n",
              "          } catch (error) {\n",
              "            console.error('Error during call to suggestCharts:', error);\n",
              "          }\n",
              "          quickchartButtonEl.classList.remove('colab-df-spinner');\n",
              "          quickchartButtonEl.classList.add('colab-df-quickchart-complete');\n",
              "        }\n",
              "        (() => {\n",
              "          let quickchartButtonEl =\n",
              "            document.querySelector('#df-9cd3e301-04ec-4f10-9734-afc057784250 button');\n",
              "          quickchartButtonEl.style.display =\n",
              "            google.colab.kernel.accessAllowed ? 'block' : 'none';\n",
              "        })();\n",
              "      </script>\n",
              "    </div>\n",
              "\n",
              "    </div>\n",
              "  </div>\n"
            ],
            "application/vnd.google.colaboratory.intrinsic+json": {
              "type": "dataframe",
              "variable_name": "df",
              "summary": "{\n  \"name\": \"df\",\n  \"rows\": 1225,\n  \"fields\": [\n    {\n      \"column\": \"Age\",\n      \"properties\": {\n        \"dtype\": \"category\",\n        \"num_unique_values\": 3,\n        \"samples\": [\n          \"Adult\",\n          \"Young\",\n          \"Squab\"\n        ],\n        \"semantic_type\": \"\",\n        \"description\": \"\"\n      }\n    },\n    {\n      \"column\": \"Season\",\n      \"properties\": {\n        \"dtype\": \"category\",\n        \"num_unique_values\": 3,\n        \"samples\": [\n          \"Winter\",\n          \"Rainy\",\n          \"Summer\"\n        ],\n        \"semantic_type\": \"\",\n        \"description\": \"\"\n      }\n    },\n    {\n      \"column\": \"Housing\",\n      \"properties\": {\n        \"dtype\": \"category\",\n        \"num_unique_values\": 2,\n        \"samples\": [\n          \"Traditional\",\n          \"Modern\"\n        ],\n        \"semantic_type\": \"\",\n        \"description\": \"\"\n      }\n    },\n    {\n      \"column\": \"Rearing\",\n      \"properties\": {\n        \"dtype\": \"category\",\n        \"num_unique_values\": 3,\n        \"samples\": [\n          \"Semi-scavenging\",\n          \"Intensive\"\n        ],\n        \"semantic_type\": \"\",\n        \"description\": \"\"\n      }\n    },\n    {\n      \"column\": \"Cleaning\",\n      \"properties\": {\n        \"dtype\": \"category\",\n        \"num_unique_values\": 2,\n        \"samples\": [\n          \"Irregular\",\n          \"Regular\"\n        ],\n        \"semantic_type\": \"\",\n        \"description\": \"\"\n      }\n    },\n    {\n      \"column\": \"Water\",\n      \"properties\": {\n        \"dtype\": \"category\",\n        \"num_unique_values\": 3,\n        \"samples\": [\n          \"Tubewell\",\n          \"Other\"\n        ],\n        \"semantic_type\": \"\",\n        \"description\": \"\"\n      }\n    },\n    {\n      \"column\": \"FeedQuality\",\n      \"properties\": {\n        \"dtype\": \"category\",\n        \"num_unique_values\": 3,\n        \"samples\": [\n          \"Good\",\n          \"Medium\"\n        ],\n        \"semantic_type\": \"\",\n        \"description\": \"\"\n      }\n    },\n    {\n      \"column\": \"FeedSupplement\",\n      \"properties\": {\n        \"dtype\": \"number\",\n        \"std\": 0.5002384461491466,\n        \"min\": 0.0,\n        \"max\": 1.0,\n        \"num_unique_values\": 2,\n        \"samples\": [\n          0.0,\n          1.0\n        ],\n        \"semantic_type\": \"\",\n        \"description\": \"\"\n      }\n    },\n    {\n      \"column\": \"Vaccination\",\n      \"properties\": {\n        \"dtype\": \"category\",\n        \"num_unique_values\": 2,\n        \"samples\": [\n          \"Regular\",\n          \"Irregular\"\n        ],\n        \"semantic_type\": \"\",\n        \"description\": \"\"\n      }\n    },\n    {\n      \"column\": \"Deworming\",\n      \"properties\": {\n        \"dtype\": \"category\",\n        \"num_unique_values\": 2,\n        \"samples\": [\n          \"Regular\",\n          \"Irregular\"\n        ],\n        \"semantic_type\": \"\",\n        \"description\": \"\"\n      }\n    },\n    {\n      \"column\": \"Treatment\",\n      \"properties\": {\n        \"dtype\": \"category\",\n        \"num_unique_values\": 2,\n        \"samples\": [\n          \"Vet\",\n          \"Village Doctor\"\n        ],\n        \"semantic_type\": \"\",\n        \"description\": \"\"\n      }\n    },\n    {\n      \"column\": \"Disease\",\n      \"properties\": {\n        \"dtype\": \"category\",\n        \"num_unique_values\": 9,\n        \"samples\": [\n          \"Canker\",\n          \"Strongyloidiasis\"\n        ],\n        \"semantic_type\": \"\",\n        \"description\": \"\"\n      }\n    }\n  ]\n}"
            }
          },
          "metadata": {},
          "execution_count": 3
        }
      ]
    },
    {
      "cell_type": "markdown",
      "source": [
        "### Print the shape of the dataset."
      ],
      "metadata": {
        "id": "unmyLS47_3lu"
      }
    },
    {
      "cell_type": "code",
      "source": [
        "print(df.shape)"
      ],
      "metadata": {
        "colab": {
          "base_uri": "https://localhost:8080/"
        },
        "id": "rVWKn42iACRI",
        "outputId": "f5d3725e-6f69-43e2-9ea0-14617e6dd904"
      },
      "execution_count": 4,
      "outputs": [
        {
          "output_type": "stream",
          "name": "stdout",
          "text": [
            "(1225, 12)\n"
          ]
        }
      ]
    },
    {
      "cell_type": "markdown",
      "source": [
        "### Print the columns"
      ],
      "metadata": {
        "id": "tyIWLxJdJBEc"
      }
    },
    {
      "cell_type": "code",
      "source": [
        "columns = df.columns\n",
        "print(columns)"
      ],
      "metadata": {
        "colab": {
          "base_uri": "https://localhost:8080/"
        },
        "id": "AmckQsGYJDiz",
        "outputId": "71766d15-177b-4ec2-f3f2-5903c5d7b666"
      },
      "execution_count": 5,
      "outputs": [
        {
          "output_type": "stream",
          "name": "stdout",
          "text": [
            "Index(['Age', 'Season', 'Housing', 'Rearing', 'Cleaning', 'Water',\n",
            "       'FeedQuality', 'FeedSupplement', 'Vaccination', 'Deworming',\n",
            "       'Treatment', 'Disease'],\n",
            "      dtype='object')\n"
          ]
        }
      ]
    },
    {
      "cell_type": "code",
      "source": [
        "print(df.info)"
      ],
      "metadata": {
        "colab": {
          "base_uri": "https://localhost:8080/"
        },
        "id": "rCAEexErXEGK",
        "outputId": "6cb7b0d1-19cf-4a92-98ec-f16bd6872905",
        "collapsed": true
      },
      "execution_count": 6,
      "outputs": [
        {
          "output_type": "stream",
          "name": "stdout",
          "text": [
            "<bound method DataFrame.info of         Age  Season Housing          Rearing   Cleaning     Water FeedQuality  \\\n",
            "0     Adult  Winter  Modern  Semi-scavenging    Regular  Tubewell        Good   \n",
            "1     Adult  Winter  Modern  Semi-scavenging  Irregular  Tubewell        Good   \n",
            "2     Adult   Rainy  Modern        Intensive    Regular     Other      Medium   \n",
            "3     Adult  Summer  Modern       Scavenging        NaN  Tubewell        Poor   \n",
            "4     Young  Winter  Modern  Semi-scavenging    Regular       Tap        Poor   \n",
            "...     ...     ...     ...              ...        ...       ...         ...   \n",
            "1220  Squab  Winter     NaN              NaN        NaN       NaN         NaN   \n",
            "1221  Adult  Winter     NaN              NaN        NaN       NaN         NaN   \n",
            "1222  Young  Winter     NaN              NaN        NaN       NaN         NaN   \n",
            "1223  Adult  Winter     NaN              NaN        NaN       NaN         NaN   \n",
            "1224  Squab  Winter     NaN              NaN        NaN       NaN         NaN   \n",
            "\n",
            "      FeedSupplement Vaccination  Deworming       Treatment  \\\n",
            "0                1.0   Irregular  Irregular             NaN   \n",
            "1                0.0         NaN        NaN             NaN   \n",
            "2                0.0     Regular  Irregular             NaN   \n",
            "3                1.0   Irregular    Regular  Village Doctor   \n",
            "4                1.0   Irregular  Irregular  Village Doctor   \n",
            "...              ...         ...        ...             ...   \n",
            "1220             NaN         NaN        NaN             NaN   \n",
            "1221             NaN         NaN        NaN             NaN   \n",
            "1222             NaN         NaN        NaN             NaN   \n",
            "1223             NaN         NaN        NaN             NaN   \n",
            "1224             NaN         NaN        NaN             NaN   \n",
            "\n",
            "                    Disease  \n",
            "0               Coccidiosis  \n",
            "1          Strongyloidiasis  \n",
            "2                Salmonella  \n",
            "3          Strongyloidiasis  \n",
            "4                        ND  \n",
            "...                     ...  \n",
            "1220             Pigeon Pox  \n",
            "1221  Parasitic Infestation  \n",
            "1222                 Canker  \n",
            "1223  Parasitic Infestation  \n",
            "1224                 Canker  \n",
            "\n",
            "[1225 rows x 12 columns]>\n"
          ]
        }
      ]
    },
    {
      "cell_type": "markdown",
      "source": [
        "### See duplicates and number of duplicates in a single column."
      ],
      "metadata": {
        "id": "EqdsJArr1beM"
      }
    },
    {
      "cell_type": "code",
      "source": [
        "print(df.duplicated(subset=['Season'])) #returns as boolian\n",
        "df['Season'].value_counts()"
      ],
      "metadata": {
        "colab": {
          "base_uri": "https://localhost:8080/",
          "height": 0
        },
        "collapsed": true,
        "id": "rzv8zLqY0SdV",
        "outputId": "62dc1ff0-df56-4cf0-c3be-bb50c5645edc"
      },
      "execution_count": 13,
      "outputs": [
        {
          "output_type": "stream",
          "name": "stdout",
          "text": [
            "0       False\n",
            "1        True\n",
            "2       False\n",
            "3       False\n",
            "4        True\n",
            "        ...  \n",
            "1220     True\n",
            "1221     True\n",
            "1222     True\n",
            "1223     True\n",
            "1224     True\n",
            "Length: 1225, dtype: bool\n"
          ]
        },
        {
          "output_type": "execute_result",
          "data": {
            "text/plain": [
              "Season\n",
              "Summer    424\n",
              "Winter    405\n",
              "Rainy     396\n",
              "Name: count, dtype: int64"
            ],
            "text/html": [
              "<div>\n",
              "<style scoped>\n",
              "    .dataframe tbody tr th:only-of-type {\n",
              "        vertical-align: middle;\n",
              "    }\n",
              "\n",
              "    .dataframe tbody tr th {\n",
              "        vertical-align: top;\n",
              "    }\n",
              "\n",
              "    .dataframe thead th {\n",
              "        text-align: right;\n",
              "    }\n",
              "</style>\n",
              "<table border=\"1\" class=\"dataframe\">\n",
              "  <thead>\n",
              "    <tr style=\"text-align: right;\">\n",
              "      <th></th>\n",
              "      <th>count</th>\n",
              "    </tr>\n",
              "    <tr>\n",
              "      <th>Season</th>\n",
              "      <th></th>\n",
              "    </tr>\n",
              "  </thead>\n",
              "  <tbody>\n",
              "    <tr>\n",
              "      <th>Summer</th>\n",
              "      <td>424</td>\n",
              "    </tr>\n",
              "    <tr>\n",
              "      <th>Winter</th>\n",
              "      <td>405</td>\n",
              "    </tr>\n",
              "    <tr>\n",
              "      <th>Rainy</th>\n",
              "      <td>396</td>\n",
              "    </tr>\n",
              "  </tbody>\n",
              "</table>\n",
              "</div><br><label><b>dtype:</b> int64</label>"
            ]
          },
          "metadata": {},
          "execution_count": 13
        }
      ]
    },
    {
      "cell_type": "markdown",
      "source": [
        "### Duplicate in all the columns"
      ],
      "metadata": {
        "id": "k2cHxgiD3Tyt"
      }
    },
    {
      "cell_type": "code",
      "source": [
        "for col in df.columns:\n",
        "  duplicate_values = df[col].value_counts()\n",
        "  duplicate_values = duplicate_values[duplicate_values > 1]\n",
        "\n",
        "  if not duplicate_values.empty:\n",
        "    print(f\"\\nDuplicate values in {col}\")\n",
        "    print(duplicate_values)\n",
        "  else:\n",
        "    print(f\"\\nNo duplicates in {col}\")"
      ],
      "metadata": {
        "colab": {
          "base_uri": "https://localhost:8080/"
        },
        "collapsed": true,
        "id": "FWSIPiit2VWA",
        "outputId": "ac4afb43-9877-47c4-da43-4d7e49df8347"
      },
      "execution_count": 15,
      "outputs": [
        {
          "output_type": "stream",
          "name": "stdout",
          "text": [
            "\n",
            "Duplicate values in Age\n",
            "Age\n",
            "Adult    546\n",
            "Young    521\n",
            "Squab    158\n",
            "Name: count, dtype: int64\n",
            "\n",
            "Duplicate values in Season\n",
            "Season\n",
            "Summer    424\n",
            "Winter    405\n",
            "Rainy     396\n",
            "Name: count, dtype: int64\n",
            "\n",
            "Duplicate values in Housing\n",
            "Housing\n",
            "Modern         364\n",
            "Traditional    359\n",
            "Name: count, dtype: int64\n",
            "\n",
            "Duplicate values in Rearing\n",
            "Rearing\n",
            "Semi-scavenging    260\n",
            "Intensive          236\n",
            "Scavenging         227\n",
            "Name: count, dtype: int64\n",
            "\n",
            "Duplicate values in Cleaning\n",
            "Cleaning\n",
            "Regular      247\n",
            "Irregular    211\n",
            "Name: count, dtype: int64\n",
            "\n",
            "Duplicate values in Water\n",
            "Water\n",
            "Other       255\n",
            "Tubewell    234\n",
            "Tap         234\n",
            "Name: count, dtype: int64\n",
            "\n",
            "Duplicate values in FeedQuality\n",
            "FeedQuality\n",
            "Medium    249\n",
            "Good      243\n",
            "Poor      231\n",
            "Name: count, dtype: int64\n",
            "\n",
            "Duplicate values in FeedSupplement\n",
            "FeedSupplement\n",
            "1.0    369\n",
            "0.0    354\n",
            "Name: count, dtype: int64\n",
            "\n",
            "Duplicate values in Vaccination\n",
            "Vaccination\n",
            "Irregular    252\n",
            "Regular      226\n",
            "Name: count, dtype: int64\n",
            "\n",
            "Duplicate values in Deworming\n",
            "Deworming\n",
            "Regular      254\n",
            "Irregular    224\n",
            "Name: count, dtype: int64\n",
            "\n",
            "Duplicate values in Treatment\n",
            "Treatment\n",
            "Village Doctor    254\n",
            "Vet               252\n",
            "Name: count, dtype: int64\n",
            "\n",
            "Duplicate values in Disease\n",
            "Disease\n",
            "Salmonella               227\n",
            "Pigeon Pox               225\n",
            "Parasitic Infestation    130\n",
            "Canker                   122\n",
            "Strongyloidiasis         118\n",
            "Coccidiosis              116\n",
            "CRD                       98\n",
            "Ascariasis                96\n",
            "ND                        93\n",
            "Name: count, dtype: int64\n"
          ]
        }
      ]
    },
    {
      "cell_type": "markdown",
      "source": [
        "### See for missing values"
      ],
      "metadata": {
        "id": "thuIb1zd2CNr"
      }
    },
    {
      "cell_type": "code",
      "source": [
        "print(df.isnull().sum()) #here number of missing values per column"
      ],
      "metadata": {
        "colab": {
          "base_uri": "https://localhost:8080/"
        },
        "id": "Y1DLkqQV2BzU",
        "outputId": "40f9fdea-05d9-45f2-85de-0de514365234"
      },
      "execution_count": 14,
      "outputs": [
        {
          "output_type": "stream",
          "name": "stdout",
          "text": [
            "Age                 0\n",
            "Season              0\n",
            "Housing           502\n",
            "Rearing           502\n",
            "Cleaning          767\n",
            "Water             502\n",
            "FeedQuality       502\n",
            "FeedSupplement    502\n",
            "Vaccination       747\n",
            "Deworming         747\n",
            "Treatment         719\n",
            "Disease             0\n",
            "dtype: int64\n"
          ]
        }
      ]
    },
    {
      "cell_type": "markdown",
      "source": [
        "### Fill missing values with Mode"
      ],
      "metadata": {
        "id": "0EITndl96F-W"
      }
    },
    {
      "cell_type": "code",
      "source": [
        "for col in df.columns:\n",
        "  if df[col].isnull().sum() > 0:\n",
        "    mode = df[col].mode()[0]\n",
        "    df[col].fillna(mode, inplace=True)"
      ],
      "metadata": {
        "colab": {
          "base_uri": "https://localhost:8080/"
        },
        "collapsed": true,
        "id": "XJMyLq4V6LKK",
        "outputId": "65420a92-fa20-4845-9302-7f834087a158"
      },
      "execution_count": 17,
      "outputs": [
        {
          "output_type": "stream",
          "name": "stderr",
          "text": [
            "/tmp/ipython-input-4269006608.py:4: FutureWarning: A value is trying to be set on a copy of a DataFrame or Series through chained assignment using an inplace method.\n",
            "The behavior will change in pandas 3.0. This inplace method will never work because the intermediate object on which we are setting values always behaves as a copy.\n",
            "\n",
            "For example, when doing 'df[col].method(value, inplace=True)', try using 'df.method({col: value}, inplace=True)' or df[col] = df[col].method(value) instead, to perform the operation inplace on the original object.\n",
            "\n",
            "\n",
            "  df[col].fillna(mode, inplace=True)\n"
          ]
        }
      ]
    },
    {
      "cell_type": "code",
      "source": [
        "print('\\nMissing values after filling:')\n",
        "print(df.isnull().sum())"
      ],
      "metadata": {
        "colab": {
          "base_uri": "https://localhost:8080/"
        },
        "id": "ntp_6tvP-Qq7",
        "outputId": "da85f215-4dff-4df7-d878-1aca8296a735"
      },
      "execution_count": 18,
      "outputs": [
        {
          "output_type": "stream",
          "name": "stdout",
          "text": [
            "\n",
            "Missing values after filling:\n",
            "Age               0\n",
            "Season            0\n",
            "Housing           0\n",
            "Rearing           0\n",
            "Cleaning          0\n",
            "Water             0\n",
            "FeedQuality       0\n",
            "FeedSupplement    0\n",
            "Vaccination       0\n",
            "Deworming         0\n",
            "Treatment         0\n",
            "Disease           0\n",
            "dtype: int64\n"
          ]
        }
      ]
    }
  ]
}