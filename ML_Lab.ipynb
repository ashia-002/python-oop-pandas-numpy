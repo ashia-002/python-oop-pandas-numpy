{
  "nbformat": 4,
  "nbformat_minor": 0,
  "metadata": {
    "colab": {
      "provenance": [],
      "authorship_tag": "ABX9TyPdQcBymAgoTOmNmVHN/mBL",
      "include_colab_link": true
    },
    "kernelspec": {
      "name": "python3",
      "display_name": "Python 3"
    },
    "language_info": {
      "name": "python"
    }
  },
  "cells": [
    {
      "cell_type": "markdown",
      "metadata": {
        "id": "view-in-github",
        "colab_type": "text"
      },
      "source": [
        "<a href=\"https://colab.research.google.com/github/ashia-002/python-oop-pandas-numpy/blob/main/ML_Lab.ipynb\" target=\"_parent\"><img src=\"https://colab.research.google.com/assets/colab-badge.svg\" alt=\"Open In Colab\"/></a>"
      ]
    },
    {
      "cell_type": "code",
      "source": [
        "#Converting dictionary into dataframe\n",
        "import pandas as pd\n"
      ],
      "metadata": {
        "id": "-9a3N7-DYXj8"
      },
      "execution_count": 1,
      "outputs": []
    },
    {
      "cell_type": "code",
      "execution_count": 7,
      "metadata": {
        "id": "wvj6iBfhYOxs"
      },
      "outputs": [],
      "source": [
        "User = [\n",
        "    {\n",
        "    \"client\" : \"student1\",\n",
        "    \"age\" : 22,\n",
        "    \"batch\" : 26,\n",
        "    \"gpa\" : 3.6,\n",
        "    \"courses\" : [\"NM\", \"CN\", \"SE\", \"ML\", \"AI\"]\n",
        "    },\n",
        "    {\n",
        "    \"client\" : \"student2\",\n",
        "    \"age\" : 21,\n",
        "    \"batch\" : 26,\n",
        "    \"gpa\" : 3.8,\n",
        "    \"courses\" : [\"NM\", \"CN\", \"SE\", \"ML\", \"AI\"]\n",
        "    }\n",
        "]"
      ]
    },
    {
      "cell_type": "code",
      "source": [
        "df = pd.DataFrame(User)\n",
        "print(df)"
      ],
      "metadata": {
        "colab": {
          "base_uri": "https://localhost:8080/"
        },
        "id": "ecEYHXs8nypy",
        "outputId": "15809e68-f198-42a3-bc6c-28ce49f8f79b"
      },
      "execution_count": 9,
      "outputs": [
        {
          "output_type": "stream",
          "name": "stdout",
          "text": [
            "     client  age  batch  gpa               courses\n",
            "0  student1   22     26  3.6  [NM, CN, SE, ML, AI]\n",
            "1  student2   21     26  3.8  [NM, CN, SE, ML, AI]\n"
          ]
        }
      ]
    },
    {
      "cell_type": "code",
      "source": [
        "#using loc() and at() method to change a value\n",
        "df.loc[df[\"client\"] == \"student1\", \"gpa\"] = 3.9\n",
        "print(df)\n",
        "\n",
        "df.at[1, \"batch\"] = 25\n",
        "print(df)"
      ],
      "metadata": {
        "colab": {
          "base_uri": "https://localhost:8080/"
        },
        "id": "YiaxaCnUsTUt",
        "outputId": "610dee0e-b8d5-44fe-f42f-22ece6de88f3"
      },
      "execution_count": 13,
      "outputs": [
        {
          "output_type": "stream",
          "name": "stdout",
          "text": [
            "     client  age  batch  gpa               courses\n",
            "0  student1   22     26  3.9  [NM, CN, SE, ML, AI]\n",
            "1  student2   21     26  3.8  [NM, CN, SE, ML, AI]\n",
            "     client  age  batch  gpa               courses\n",
            "0  student1   22     26  3.9  [NM, CN, SE, ML, AI]\n",
            "1  student2   21     25  3.8  [NM, CN, SE, ML, AI]\n"
          ]
        }
      ]
    },
    {
      "cell_type": "code",
      "source": [],
      "metadata": {
        "id": "NZyFw_BftWOt"
      },
      "execution_count": null,
      "outputs": []
    }
  ]
}