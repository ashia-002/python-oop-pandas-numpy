{
  "nbformat": 4,
  "nbformat_minor": 0,
  "metadata": {
    "colab": {
      "provenance": [],
      "authorship_tag": "ABX9TyM50cMiPbcBzsWGHlEBXkfm",
      "include_colab_link": true
    },
    "kernelspec": {
      "name": "python3",
      "display_name": "Python 3"
    },
    "language_info": {
      "name": "python"
    }
  },
  "cells": [
    {
      "cell_type": "markdown",
      "metadata": {
        "id": "view-in-github",
        "colab_type": "text"
      },
      "source": [
        "<a href=\"https://colab.research.google.com/github/ashia-002/python-oop-pandas-numpy/blob/main/ML_Lab.ipynb\" target=\"_parent\"><img src=\"https://colab.research.google.com/assets/colab-badge.svg\" alt=\"Open In Colab\"/></a>"
      ]
    },
    {
      "cell_type": "markdown",
      "source": [
        "# Converting dictionary into dataframe"
      ],
      "metadata": {
        "id": "UCnlXYlFvhrO"
      }
    },
    {
      "cell_type": "code",
      "source": [
        "import pandas as pd"
      ],
      "metadata": {
        "id": "-9a3N7-DYXj8"
      },
      "execution_count": 1,
      "outputs": []
    },
    {
      "cell_type": "code",
      "execution_count": 29,
      "metadata": {
        "id": "wvj6iBfhYOxs"
      },
      "outputs": [],
      "source": [
        "User = [\n",
        "    {\n",
        "    \"client\" : \"student1\",\n",
        "    \"age\" : 22,\n",
        "    \"batch\" : 26,\n",
        "    \"gpa\" : 3.6,\n",
        "    \"courses\" : [\"NM\", \"CN\", \"SE\", \"ML\", \"AI\"]\n",
        "    },\n",
        "    {\n",
        "    \"client\" : \"student2\",\n",
        "    \"age\" : 21,\n",
        "    \"batch\" : 26,\n",
        "    \"gpa\" : 3.8,\n",
        "    \"courses\" : [\"NM\", \"CN\", \"SE\", \"ML\", \"AI\"]\n",
        "    }\n",
        "]"
      ]
    },
    {
      "cell_type": "markdown",
      "source": [
        "### See the converted dataframe"
      ],
      "metadata": {
        "id": "w_YVrTxpvxat"
      }
    },
    {
      "cell_type": "code",
      "source": [
        "df = pd.DataFrame(User)\n",
        "print(df)"
      ],
      "metadata": {
        "colab": {
          "base_uri": "https://localhost:8080/"
        },
        "id": "ecEYHXs8nypy",
        "outputId": "c896deab-104c-4d83-a770-dc957f24a8e3"
      },
      "execution_count": 30,
      "outputs": [
        {
          "output_type": "stream",
          "name": "stdout",
          "text": [
            "     client  age  batch  gpa               courses\n",
            "0  student1   22     26  3.6  [NM, CN, SE, ML, AI]\n",
            "1  student2   21     26  3.8  [NM, CN, SE, ML, AI]\n"
          ]
        }
      ]
    },
    {
      "cell_type": "code",
      "source": [
        "#using loc() and at() method to change a value\n",
        "df.loc[df[\"client\"] == \"student1\", \"gpa\"] = 3.9\n",
        "print(df)\n",
        "\n",
        "df.at[1, \"batch\"] = 25\n",
        "print(df)"
      ],
      "metadata": {
        "colab": {
          "base_uri": "https://localhost:8080/"
        },
        "id": "YiaxaCnUsTUt",
        "outputId": "29916c1c-f110-4e68-bebb-3c9f282a9ab2"
      },
      "execution_count": 31,
      "outputs": [
        {
          "output_type": "stream",
          "name": "stdout",
          "text": [
            "     client  age  batch  gpa               courses\n",
            "0  student1   22     26  3.9  [NM, CN, SE, ML, AI]\n",
            "1  student2   21     26  3.8  [NM, CN, SE, ML, AI]\n",
            "     client  age  batch  gpa               courses\n",
            "0  student1   22     26  3.9  [NM, CN, SE, ML, AI]\n",
            "1  student2   21     25  3.8  [NM, CN, SE, ML, AI]\n"
          ]
        }
      ]
    },
    {
      "cell_type": "code",
      "source": [
        "course_list = df.at[1, \"courses\"]\n",
        "course_list[course_list.index(\"ML\")] = \"OBE\"\n",
        "print(course_list)\n",
        "print(df)"
      ],
      "metadata": {
        "colab": {
          "base_uri": "https://localhost:8080/"
        },
        "id": "l94MthnZywGr",
        "outputId": "ca857a5a-77e0-4239-887e-a7d939ed7fd9"
      },
      "execution_count": 32,
      "outputs": [
        {
          "output_type": "stream",
          "name": "stdout",
          "text": [
            "['NM', 'CN', 'SE', 'OBE', 'AI']\n",
            "     client  age  batch  gpa                courses\n",
            "0  student1   22     26  3.9   [NM, CN, SE, ML, AI]\n",
            "1  student2   21     25  3.8  [NM, CN, SE, OBE, AI]\n"
          ]
        }
      ]
    }
  ]
}